{
 "cells": [
  {
   "cell_type": "code",
   "execution_count": 5,
   "id": "e94ce7f9",
   "metadata": {},
   "outputs": [
    {
     "name": "stdout",
     "output_type": "stream",
     "text": [
      "Learned Q-Table:\n",
      "[[[  63.171        70.19         63.171        55.8539    ]\n",
      "  [  -1.          -99.99998976   63.171       -99.999744  ]\n",
      "  [   0.            0.            0.            0.        ]]\n",
      "\n",
      " [[  63.171        79.1          70.19       -100.        ]\n",
      "  [   0.            0.            0.            0.        ]\n",
      "  [   0.            0.            0.            0.        ]]\n",
      "\n",
      " [[  70.19         79.1          79.1          89.        ]\n",
      "  [-100.           89.           79.1         100.        ]\n",
      "  [   0.            0.            0.            0.        ]]]\n"
     ]
    }
   ],
   "source": [
    "import numpy as np\n",
    "import random\n",
    "\n",
    "# Define the environment\n",
    "env = np.array([['S', 'F', 'H'],\n",
    "                ['F', 'H', 'F'],\n",
    "                ['F', 'F', 'G']])\n",
    "\n",
    "# Define the reward table\n",
    "rewards = {'G': 100, 'H': -100, 'F': -1, 'S': 0}  # Adding 'S' with reward 0\n",
    "\n",
    "# Initialize the Q-table\n",
    "Q = np.zeros((3, 3, 4))  # 3x3 grid and 4 actions\n",
    "\n",
    "# Set hyperparameters\n",
    "alpha = 0.8  # Learning rate\n",
    "gamma = 0.9  # Discount factor\n",
    "epsilon = 0.1  # Exploration rate\n",
    "\n",
    "# Define the available actions\n",
    "actions = ['up', 'down', 'left', 'right']\n",
    "\n",
    "# Implement the Q-learning algorithm\n",
    "for _ in range(1000):\n",
    "    state = (0, 0)  # Start at the top-left corner\n",
    "    while env[state] != 'G' and env[state] != 'H':\n",
    "        if random.uniform(0, 1) < epsilon:\n",
    "            action = random.choice(actions)  # Explore action space\n",
    "        else:\n",
    "            action = actions[np.argmax(Q[state])]\n",
    "\n",
    "        if action == 'up' and state[0] > 0:\n",
    "            next_state = (state[0] - 1, state[1])\n",
    "        elif action == 'down' and state[0] < 2:\n",
    "            next_state = (state[0] + 1, state[1])\n",
    "        elif action == 'left' and state[1] > 0:\n",
    "            next_state = (state[0], state[1] - 1)\n",
    "        elif action == 'right' and state[1] < 2:\n",
    "            next_state = (state[0], state[1] + 1)\n",
    "        else:\n",
    "            next_state = state\n",
    "\n",
    "        if env[next_state] not in rewards:  # Check for the presence of the state in rewards\n",
    "            reward = 0\n",
    "        else:\n",
    "            reward = rewards[env[next_state]]\n",
    "\n",
    "        max_Q_next = np.max(Q[next_state]) if env[next_state] != 'H' else 0  # Avoid max Q-value for the 'H' state\n",
    "        Q[state][actions.index(action)] = (1 - alpha) * Q[state][actions.index(action)] + alpha * (\n",
    "                reward + gamma * max_Q_next)\n",
    "\n",
    "        state = next_state\n",
    "\n",
    "print(\"Learned Q-Table:\")\n",
    "print(Q)\n"
   ]
  },
  {
   "cell_type": "code",
   "execution_count": null,
   "id": "e62547a3",
   "metadata": {},
   "outputs": [],
   "source": [
    "\n",
    "   "
   ]
  },
  {
   "cell_type": "code",
   "execution_count": null,
   "id": "a7a37dff",
   "metadata": {},
   "outputs": [],
   "source": []
  }
 ],
 "metadata": {
  "kernelspec": {
   "display_name": "Python 3 (ipykernel)",
   "language": "python",
   "name": "python3"
  },
  "language_info": {
   "codemirror_mode": {
    "name": "ipython",
    "version": 3
   },
   "file_extension": ".py",
   "mimetype": "text/x-python",
   "name": "python",
   "nbconvert_exporter": "python",
   "pygments_lexer": "ipython3",
   "version": "3.9.12"
  }
 },
 "nbformat": 4,
 "nbformat_minor": 5
}
