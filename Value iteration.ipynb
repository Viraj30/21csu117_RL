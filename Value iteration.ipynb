{
 "cells": [
  {
   "cell_type": "code",
   "execution_count": 2,
   "id": "e9fd0777",
   "metadata": {},
   "outputs": [
    {
     "name": "stdout",
     "output_type": "stream",
     "text": [
      "Optimal Values:\n",
      "[[ 64.     80.    100.      0.   ]\n",
      " [ 51.2    64.     80.    100.   ]\n",
      " [ 40.96   51.2    64.     79.   ]\n",
      " [ 32.768  40.96   51.2    62.2  ]]\n"
     ]
    }
   ],
   "source": [
    "import numpy as np\n",
    "\n",
    "\n",
    "\n",
    "# Define the reward table\n",
    "rewards = np.array([[0, 0, 0, 100],\n",
    "                    [0, -1, 0, -1],\n",
    "                    [0, 0, 0, -1],\n",
    "                    [0, 0, 0, 0]])\n",
    "\n",
    "# Set hyperparameters\n",
    "gamma = 0.8  # Discount factor\n",
    "epsilon = 0.001  # Convergence threshold\n",
    "\n",
    "# Initialize the value table\n",
    "values = np.zeros((4, 4))\n",
    "\n",
    "# Define the available actions\n",
    "actions = [(0, 1), (0, -1), (1, 0), (-1, 0)]\n",
    "\n",
    "# Implement the value iteration algorithm\n",
    "while True:\n",
    "    delta = 0\n",
    "    new_values = np.copy(values)\n",
    "    for i in range(4):\n",
    "        for j in range(4):\n",
    "            if (i, j) == (0, 3):\n",
    "                continue\n",
    "            value_list = []\n",
    "            for action in actions:\n",
    "                next_i, next_j = i + action[0], j + action[1]\n",
    "                if 0 <= next_i < 4 and 0 <= next_j < 4:\n",
    "                    value_list.append(rewards[next_i, next_j] + gamma * values[next_i, next_j])\n",
    "                else:\n",
    "                    value_list.append(rewards[i, j])\n",
    "            new_values[i, j] = max(value_list)\n",
    "            delta = max(delta, abs(new_values[i, j] - values[i, j]))\n",
    "    values = new_values\n",
    "    if delta < epsilon:\n",
    "        break\n",
    "\n",
    "# Print the final values\n",
    "print(\"Optimal Values:\")\n",
    "print(values)\n"
   ]
  },
  {
   "cell_type": "code",
   "execution_count": null,
   "id": "cd372f55",
   "metadata": {},
   "outputs": [],
   "source": []
  }
 ],
 "metadata": {
  "kernelspec": {
   "display_name": "Python 3 (ipykernel)",
   "language": "python",
   "name": "python3"
  },
  "language_info": {
   "codemirror_mode": {
    "name": "ipython",
    "version": 3
   },
   "file_extension": ".py",
   "mimetype": "text/x-python",
   "name": "python",
   "nbconvert_exporter": "python",
   "pygments_lexer": "ipython3",
   "version": "3.9.12"
  }
 },
 "nbformat": 4,
 "nbformat_minor": 5
}
