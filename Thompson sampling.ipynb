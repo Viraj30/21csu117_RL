{
 "cells": [
  {
   "cell_type": "code",
   "execution_count": 1,
   "id": "6b44af10",
   "metadata": {},
   "outputs": [
    {
     "name": "stdout",
     "output_type": "stream",
     "text": [
      "The best arm is 0 with a success rate of 0.7180898394460574\n",
      "The total reward: 0.6782178217821783\n"
     ]
    }
   ],
   "source": [
    "import numpy as np\n",
    "import random\n",
    "\n",
    "class ThompsonSampling:\n",
    "    def __init__(self, n_arms):\n",
    "        self.n = n_arms\n",
    "        self.alpha = np.ones(n_arms)\n",
    "        self.beta = np.ones(n_arms)\n",
    "        self.sampled_means = np.zeros(n_arms)\n",
    "\n",
    "    def select_arm(self):\n",
    "        sampled_theta = [np.random.beta(self.alpha[i], self.beta[i]) for i in range(self.n)]\n",
    "        return np.argmax(sampled_theta)\n",
    "\n",
    "    def update(self, arm, reward):\n",
    "        if reward == 1:\n",
    "            self.alpha[arm] += 1\n",
    "        else:\n",
    "            self.beta[arm] += 1\n",
    "\n",
    "        self.sampled_means[arm] = np.random.beta(self.alpha[arm], self.beta[arm])\n",
    "\n",
    "    def get_total_reward(self):\n",
    "        return np.sum(self.alpha) / (np.sum(self.alpha) + np.sum(self.beta))\n",
    "\n",
    "\n",
    "# Example usage\n",
    "# Initialize Thompson Sampling with the number of arms\n",
    "num_arms = 5\n",
    "thompson_sampling = ThompsonSampling(num_arms)\n",
    "\n",
    "# Simulate some rounds\n",
    "num_rounds = 1000\n",
    "for _ in range(num_rounds):\n",
    "    chosen_arm = thompson_sampling.select_arm()\n",
    "\n",
    "    # Simulating reward, assuming some random generation process\n",
    "    if random.random() < 0.7:  # Assuming a success rate of 0.7\n",
    "        reward = 1\n",
    "    else:\n",
    "        reward = 0\n",
    "\n",
    "    thompson_sampling.update(chosen_arm, reward)\n",
    "\n",
    "# Get the arm with the highest sampled mean\n",
    "best_arm = np.argmax(thompson_sampling.sampled_means)\n",
    "\n",
    "print(f\"The best arm is {best_arm} with a success rate of {thompson_sampling.sampled_means[best_arm]}\")\n",
    "print(f\"The total reward: {thompson_sampling.get_total_reward()}\")\n"
   ]
  },
  {
   "cell_type": "code",
   "execution_count": null,
   "id": "1a2a395a",
   "metadata": {},
   "outputs": [],
   "source": []
  }
 ],
 "metadata": {
  "kernelspec": {
   "display_name": "Python 3 (ipykernel)",
   "language": "python",
   "name": "python3"
  },
  "language_info": {
   "codemirror_mode": {
    "name": "ipython",
    "version": 3
   },
   "file_extension": ".py",
   "mimetype": "text/x-python",
   "name": "python",
   "nbconvert_exporter": "python",
   "pygments_lexer": "ipython3",
   "version": "3.9.12"
  }
 },
 "nbformat": 4,
 "nbformat_minor": 5
}
